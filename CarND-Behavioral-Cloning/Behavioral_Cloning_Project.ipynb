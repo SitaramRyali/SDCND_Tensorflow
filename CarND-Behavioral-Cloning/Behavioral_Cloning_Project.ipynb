{
 "cells": [
  {
   "cell_type": "code",
   "execution_count": 1,
   "metadata": {},
   "outputs": [],
   "source": [
    "import csv\n",
    "import cv2\n",
    "import matplotlib\n",
    "import matplotlib.pyplot as plt\n",
    "import numpy as np"
   ]
  },
  {
   "cell_type": "code",
   "execution_count": 2,
   "metadata": {},
   "outputs": [],
   "source": [
    "lines = []\n",
    "with open('data/driving_log.csv') as csvfile:\n",
    "    reader = csv.reader(csvfile)\n",
    "    for line in reader:\n",
    "        lines.append(line)"
   ]
  },
  {
   "cell_type": "code",
   "execution_count": 3,
   "metadata": {},
   "outputs": [
    {
     "data": {
      "text/plain": [
       "['IMG/center_2016_12_01_13_30_48_287.jpg',\n",
       " ' IMG/left_2016_12_01_13_30_48_287.jpg',\n",
       " ' IMG/right_2016_12_01_13_30_48_287.jpg',\n",
       " ' 0',\n",
       " ' 0',\n",
       " ' 0',\n",
       " ' 22.14829']"
      ]
     },
     "execution_count": 3,
     "metadata": {},
     "output_type": "execute_result"
    }
   ],
   "source": [
    "lines[1]"
   ]
  },
  {
   "cell_type": "code",
   "execution_count": 4,
   "metadata": {},
   "outputs": [],
   "source": [
    "images = []\n",
    "measurements = []\n",
    "for line in lines[1:]:\n",
    "    curr_path = 'data/'+line[0]\n",
    "    im = cv2.imread(curr_path)\n",
    "    images.append(im)\n",
    "    meas = float(line[3])\n",
    "    measurements.append(meas)"
   ]
  },
  {
   "cell_type": "code",
   "execution_count": 5,
   "metadata": {},
   "outputs": [],
   "source": [
    "x_train = np.array(images)\n",
    "y_train = np.array(measurements)"
   ]
  },
  {
   "cell_type": "code",
   "execution_count": 6,
   "metadata": {},
   "outputs": [
    {
     "name": "stderr",
     "output_type": "stream",
     "text": [
      "Using TensorFlow backend.\n"
     ]
    }
   ],
   "source": [
    "from keras.models import Sequential\n",
    "from keras.layers import Flatten,Dense"
   ]
  },
  {
   "cell_type": "code",
   "execution_count": 7,
   "metadata": {},
   "outputs": [
    {
     "name": "stderr",
     "output_type": "stream",
     "text": [
      "WARNING: Logging before flag parsing goes to stderr.\n",
      "W1119 21:16:13.046754  9744 deprecation_wrapper.py:119] From C:\\Users\\silar\\tool_setup\\Anaconda3\\lib\\site-packages\\keras\\backend\\tensorflow_backend.py:74: The name tf.get_default_graph is deprecated. Please use tf.compat.v1.get_default_graph instead.\n",
      "\n",
      "W1119 21:16:13.122599  9744 deprecation_wrapper.py:119] From C:\\Users\\silar\\tool_setup\\Anaconda3\\lib\\site-packages\\keras\\backend\\tensorflow_backend.py:517: The name tf.placeholder is deprecated. Please use tf.compat.v1.placeholder instead.\n",
      "\n",
      "W1119 21:16:13.168259  9744 deprecation_wrapper.py:119] From C:\\Users\\silar\\tool_setup\\Anaconda3\\lib\\site-packages\\keras\\backend\\tensorflow_backend.py:4138: The name tf.random_uniform is deprecated. Please use tf.random.uniform instead.\n",
      "\n"
     ]
    }
   ],
   "source": [
    "model = Sequential()\n",
    "model.add(Flatten(input_shape = (160,320,3)))\n",
    "model.add(Dense(1))"
   ]
  },
  {
   "cell_type": "code",
   "execution_count": 8,
   "metadata": {},
   "outputs": [
    {
     "name": "stderr",
     "output_type": "stream",
     "text": [
      "W1119 21:16:13.313811  9744 deprecation_wrapper.py:119] From C:\\Users\\silar\\tool_setup\\Anaconda3\\lib\\site-packages\\keras\\optimizers.py:790: The name tf.train.Optimizer is deprecated. Please use tf.compat.v1.train.Optimizer instead.\n",
      "\n"
     ]
    }
   ],
   "source": [
    "model.compile(loss = 'mse',optimizer = 'adam')"
   ]
  },
  {
   "cell_type": "code",
   "execution_count": 9,
   "metadata": {},
   "outputs": [
    {
     "name": "stderr",
     "output_type": "stream",
     "text": [
      "C:\\Users\\silar\\tool_setup\\Anaconda3\\lib\\site-packages\\ipykernel_launcher.py:1: UserWarning: The `nb_epoch` argument in `fit` has been renamed `epochs`.\n",
      "  \"\"\"Entry point for launching an IPython kernel.\n",
      "W1119 21:16:14.336214  9744 deprecation_wrapper.py:119] From C:\\Users\\silar\\tool_setup\\Anaconda3\\lib\\site-packages\\keras\\backend\\tensorflow_backend.py:986: The name tf.assign_add is deprecated. Please use tf.compat.v1.assign_add instead.\n",
      "\n",
      "W1119 21:16:14.557650  9744 deprecation_wrapper.py:119] From C:\\Users\\silar\\tool_setup\\Anaconda3\\lib\\site-packages\\keras\\backend\\tensorflow_backend.py:973: The name tf.assign is deprecated. Please use tf.compat.v1.assign instead.\n",
      "\n"
     ]
    },
    {
     "name": "stdout",
     "output_type": "stream",
     "text": [
      "Train on 6428 samples, validate on 1608 samples\n",
      "Epoch 1/6\n",
      "6428/6428 [==============================] - 12s 2ms/step - loss: 5022614.9371 - val_loss: 6445.76822s - loss: 6 - ETA: 1s - loss\n",
      "Epoch 2/6\n",
      "6428/6428 [==============================] - 11s 2ms/step - loss: 4046.1088 - val_loss: 3556.0638\n",
      "Epoch 3/6\n",
      "6428/6428 [==============================] - 11s 2ms/step - loss: 2736.2064 - val_loss: 5613.6061\n",
      "Epoch 4/6\n",
      "6428/6428 [==============================] - 12s 2ms/step - loss: 2134.7818 - val_loss: 1871.6781\n",
      "Epoch 5/6\n",
      "6428/6428 [==============================] - 12s 2ms/step - loss: 2982.7654 - val_loss: 1504.5065\n",
      "Epoch 6/6\n",
      "6428/6428 [==============================] - 11s 2ms/step - loss: 2062.8385 - val_loss: 1629.6517\n"
     ]
    }
   ],
   "source": [
    "model.fit(x_train,y_train,validation_split = 0.2, shuffle = True,nb_epoch =6)\n",
    "model.save('model.h5')"
   ]
  },
  {
   "cell_type": "code",
   "execution_count": null,
   "metadata": {},
   "outputs": [],
   "source": []
  }
 ],
 "metadata": {
  "kernelspec": {
   "display_name": "Python 3",
   "language": "python",
   "name": "python3"
  },
  "language_info": {
   "codemirror_mode": {
    "name": "ipython",
    "version": 3
   },
   "file_extension": ".py",
   "mimetype": "text/x-python",
   "name": "python",
   "nbconvert_exporter": "python",
   "pygments_lexer": "ipython3",
   "version": "3.6.9"
  }
 },
 "nbformat": 4,
 "nbformat_minor": 2
}
